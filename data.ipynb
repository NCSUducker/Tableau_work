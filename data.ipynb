{
 "cells": [
  {
   "cell_type": "code",
   "execution_count": 1,
   "source": [
    "import pandas as pd\r\n"
   ],
   "outputs": [],
   "metadata": {}
  },
  {
   "cell_type": "code",
   "execution_count": 40,
   "source": [
    "csv_path1 = \"tripdata_2020_aug/2020_aug.csv\"\r\n",
    "data_df1 = pd.read_csv(csv_path1, encoding=\"utf-8\")\r\n",
    "\r\n",
    "csv_path2 = \"tripdata_2020_sept/2020_sept.csv\"\r\n",
    "csv_path3 = \"tripdata_2020_oct/2020_oct.csv\"\r\n",
    "csv_path4 = \"tripdata_2020_nov/2020_nov.csv\"\r\n",
    "csv_path5 = \"tripdata_2020_dec/2020_dec.csv\"\r\n",
    "csv_path6 = \"tripdata_2021_jan/2021_jan.csv\"\r\n",
    "csv_path7 = \"tripdata_2021_feb/2021_feb.csv\"\r\n",
    "csv_path8 = \"tripdata_2021_mar/2021_mar.csv\"\r\n",
    "csv_path9 = \"tripdata_2021_apr/2021_apr.csv\"\r\n",
    "csv_path10 = \"tripdata_2021_may/2021_may.csv\"\r\n",
    "csv_path11 = \"tripdata_2021_jun/2021_jun.csv\"\r\n",
    "csv_path12 = \"tripdata_2021_jul/2021_jul.csv\"\r\n",
    "\r\n",
    "data_df2 = pd.read_csv(csv_path2, encoding=\"utf-8\")\r\n",
    "data_df3 = pd.read_csv(csv_path3, encoding=\"utf-8\")\r\n",
    "data_df4 = pd.read_csv(csv_path4, encoding=\"utf-8\")\r\n",
    "data_df5 = pd.read_csv(csv_path5, encoding=\"utf-8\")\r\n",
    "data_df6 = pd.read_csv(csv_path6, encoding=\"utf-8\")\r\n",
    "data_df7 = pd.read_csv(csv_path7, encoding=\"utf-8\")\r\n",
    "data_df8 = pd.read_csv(csv_path8, encoding=\"utf-8\")\r\n",
    "data_df9 = pd.read_csv(csv_path9, encoding=\"utf-8\")\r\n",
    "data_df10 = pd.read_csv(csv_path10, encoding=\"utf-8\")\r\n",
    "data_df11 = pd.read_csv(csv_path11, encoding=\"utf-8\")\r\n",
    "data_df12 = pd.read_csv(csv_path12, encoding=\"utf-8\")\r\n",
    "\r\n",
    "data_df12.tail()\r\n",
    "data_df12.columns"
   ],
   "outputs": [
    {
     "output_type": "execute_result",
     "data": {
      "text/plain": [
       "Index(['ride_id', 'rideable_type', 'started_at', 'ended_at',\n",
       "       'start_station_name', 'start_station_id', 'end_station_name',\n",
       "       'end_station_id', 'start_lat', 'start_lng', 'end_lat', 'end_lng',\n",
       "       'member_casual'],\n",
       "      dtype='object')"
      ]
     },
     "metadata": {},
     "execution_count": 40
    }
   ],
   "metadata": {}
  },
  {
   "cell_type": "code",
   "execution_count": 59,
   "source": [
    "df = [data_df1, data_df2, data_df3, data_df4, data_df5, data_df6, data_df7, data_df8, data_df9, data_df10, data_df11, data_df12]\r\n",
    "\r\n",
    "citi_df = pd.concat(df, join = \"outer\", axis=0)\r\n",
    "citi_df.head()\r\n",
    "citi_df.shape"
   ],
   "outputs": [
    {
     "output_type": "execute_result",
     "data": {
      "text/plain": [
       "(416577, 28)"
      ]
     },
     "metadata": {},
     "execution_count": 59
    }
   ],
   "metadata": {}
  },
  {
   "cell_type": "code",
   "execution_count": 60,
   "source": [
    "citi_df.head()\r\n",
    "citi_df.columns"
   ],
   "outputs": [
    {
     "output_type": "execute_result",
     "data": {
      "text/plain": [
       "Index(['tripduration', 'starttime', 'stoptime', 'start station id',\n",
       "       'start station name', 'start station latitude',\n",
       "       'start station longitude', 'end station id', 'end station name',\n",
       "       'end station latitude', 'end station longitude', 'bikeid', 'usertype',\n",
       "       'birth year', 'gender', 'ride_id', 'rideable_type', 'started_at',\n",
       "       'ended_at', 'start_station_name', 'start_station_id',\n",
       "       'end_station_name', 'end_station_id', 'start_lat', 'start_lng',\n",
       "       'end_lat', 'end_lng', 'member_casual'],\n",
       "      dtype='object')"
      ]
     },
     "metadata": {},
     "execution_count": 60
    }
   ],
   "metadata": {}
  },
  {
   "cell_type": "code",
   "execution_count": 62,
   "source": [
    "citi_df.to_csv(\"resources/citi_clean.csv\")"
   ],
   "outputs": [],
   "metadata": {}
  },
  {
   "cell_type": "code",
   "execution_count": null,
   "source": [],
   "outputs": [],
   "metadata": {}
  }
 ],
 "metadata": {
  "orig_nbformat": 4,
  "language_info": {
   "name": "python",
   "version": "3.8.5",
   "mimetype": "text/x-python",
   "codemirror_mode": {
    "name": "ipython",
    "version": 3
   },
   "pygments_lexer": "ipython3",
   "nbconvert_exporter": "python",
   "file_extension": ".py"
  },
  "kernelspec": {
   "name": "python3",
   "display_name": "Python 3.8.5 64-bit ('base': conda)"
  },
  "interpreter": {
   "hash": "5b7cf6ab77895c68c7b4b58e65466a1c36a4b146a516d2a8b2ff29c4698a0c9c"
  }
 },
 "nbformat": 4,
 "nbformat_minor": 2
}